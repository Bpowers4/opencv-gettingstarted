{
 "cells": [
  {
   "cell_type": "markdown",
   "metadata": {},
   "source": [
    "# Moving away from the notebook\n",
    "\n",
    "These Jupyter notebooks provide a nice code playground for looking at Python and testing individual ideas one by one but it is time to move away from this notebook and into an \"*actual program*\". You may have already been doing this with play.py file as we go along, but if not, it's time to open up a real program. \n",
    "\n",
    "What we're going to do is video, and we're going to do it with face detection to start off with. Open up (in a text editor or code editor...) the file \n",
    "\n",
    "```\n",
    "start.py\n",
    "```\n",
    "\n",
    "This has the following code at the top of it (should look familiar...)"
   ]
  },
  {
   "cell_type": "code",
   "execution_count": 1,
   "metadata": {
    "collapsed": true
   },
   "outputs": [],
   "source": [
    "# these imports let you use opencv\n",
    "import cv2 #opencv itself\n",
    "import common #some useful opencv functions\n",
    "import video # some video stuff\n",
    "import numpy as np # matrix manipulations\n"
   ]
  },
  {
   "cell_type": "markdown",
   "metadata": {},
   "source": [
    "For the purposes of the notebook (this page that you're reading now) we're going to have to do some notebook code in order to view images here"
   ]
  },
  {
   "cell_type": "code",
   "execution_count": 2,
   "metadata": {
    "collapsed": true
   },
   "outputs": [],
   "source": [
    "#the following are to do with this interactive notebook code\n",
    "%matplotlib inline \n",
    "from matplotlib import pyplot as plt # this lets you draw inline pictures in the notebooks\n",
    "import pylab # this allows you to control figure size \n",
    "pylab.rcParams['figure.figsize'] = (10.0, 8.0) # this controls figure size in the notebook"
   ]
  },
  {
   "cell_type": "markdown",
   "metadata": {},
   "source": [
    "The other code that is in the file start.py opens the webcam (if the webcam works), then just puts the contents of the webcam in a window until someone presses escape, while counting up the frames (until someone presses escape).\n",
    "\n",
    "Test this now. You should just have a really basic webcam viewer.\n",
    "\n",
    "What we are going to do now is to edit this webcam viewer and introduce detections (from previous notebooks) and some video processing"
   ]
  },
  {
   "cell_type": "markdown",
   "metadata": {},
   "source": [
    "## Coding exercise 1\n",
    "Make your webcam image greyscale, and view that in the webcam viewer\n",
    "\n",
    "## Coding exercise 2\n",
    "Run a face detector on your grey webcam image, and draw the output as rectangles\n",
    "\n",
    "## Coding exercise 3: motion detection\n",
    "\n",
    "Exercise 3 is a little more challenging and involves motion detection.  We're going to do this the simplest way which is to keep a moving average of the colour in each frame, and then compare that to the current frame.\n",
    "\n",
    "### 3a: setting up our constants\n",
    "\n",
    "Methods often have parameters, and these can be set outside the main video loop. The parameters we're going to set are fbuffer which is a variable for the number of frames in our buffer. We'll start with 15, this means that if something is still for 15 frames it will disappear into the background.  alpha is the update rate for our background model and is a function of fbuffer. difference_thresh is the amount of difference from the background model that we're willing to accept before saying \"*actually that object is moving*\".\n",
    "\n",
    "The final thing we set up is our actual moving average model, which is a variable called \"movingaverage\" the same size as the images we're getting, initialised with the first image (img).\n",
    "\n",
    "```\n",
    "fbuffer=15\n",
    "alpha=float(1.0/fbuffer) \n",
    "difference_thresh=10\n",
    "movingaverage=np.float32(img)\n",
    "```\n",
    "\n",
    "\n",
    "Copy these into the start.py file, outside of the main video loop.\n",
    "\n",
    "### 3b: looking at the moving average model\n",
    "\n",
    "\n",
    "Inside the video loop, we want to take each frame and update our moving average model. This is just one line of code in OpenCV (the first of the lines below) but we also want to take a look at it so we'll convert the scale so it'll show nicely as an image, and we'll copy it to output image. \n",
    "\n",
    "```\n",
    "    cv2.accumulateWeighted(img,movingaverage,alpha) \n",
    "    res=cv2.convertScaleAbs(movingaverage)\n",
    "    # show the background model \n",
    "    output_image=res.copy()  \n",
    "```\n",
    "Add these to the file (before the facedetect section - we don't want to incorporate the face rectangles into our background model!) and take a look at the background model. \n",
    "\n",
    "Experiment with different values of fbuffer"
   ]
  },
  {
   "cell_type": "code",
   "execution_count": null,
   "metadata": {
    "collapsed": true
   },
   "outputs": [],
   "source": [
    "    movingaverage=np.float32(img)\n"
   ]
  }
 ],
 "metadata": {
  "kernelspec": {
   "display_name": "Python 2",
   "language": "python",
   "name": "python2"
  },
  "language_info": {
   "codemirror_mode": {
    "name": "ipython",
    "version": 2
   },
   "file_extension": ".py",
   "mimetype": "text/x-python",
   "name": "python",
   "nbconvert_exporter": "python",
   "pygments_lexer": "ipython2",
   "version": "2.7.6"
  }
 },
 "nbformat": 4,
 "nbformat_minor": 0
}
