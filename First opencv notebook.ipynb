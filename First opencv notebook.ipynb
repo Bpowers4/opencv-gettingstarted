{
 "cells": [
  {
   "cell_type": "markdown",
   "metadata": {},
   "source": [
    "# OpenCV from the very beginning\n",
    "\n",
    "This is a super-rough tutorial that should get you up and running with OpenCV as fast as possible. The emphasis is on practical, quick, python-based image analysis and manipulation with pointers to a lot of the gotchas. It's not on principles or theory: if you want that, read a book:-)\n",
    "\n",
    "(I recommend : [https://www.amazon.co.uk/Image-Processing-Analysis-Machine-Vision/dp/1133593607/ref=dp_ob_image_bk] for a thorough and clear image processing base as well as a computer vision intro. I also recommend [http://szeliski.org/Book/] which is clear, vision rather than image processing based, and available online)"
   ]
  },
  {
   "cell_type": "code",
   "execution_count": 1,
   "metadata": {
    "collapsed": true
   },
   "outputs": [],
   "source": [
    "import cv2\n",
    "import numpy as np\n",
    "import common\n",
    "import video\n"
   ]
  },
  {
   "cell_type": "code",
   "execution_count": null,
   "metadata": {
    "collapsed": true
   },
   "outputs": [],
   "source": []
  }
 ],
 "metadata": {
  "kernelspec": {
   "display_name": "Python 2",
   "language": "python",
   "name": "python2"
  },
  "language_info": {
   "codemirror_mode": {
    "name": "ipython",
    "version": 2
   },
   "file_extension": ".py",
   "mimetype": "text/x-python",
   "name": "python",
   "nbconvert_exporter": "python",
   "pygments_lexer": "ipython2",
   "version": "2.7.6"
  }
 },
 "nbformat": 4,
 "nbformat_minor": 0
}
