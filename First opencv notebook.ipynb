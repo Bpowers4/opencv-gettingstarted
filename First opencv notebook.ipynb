{
 "cells": [
  {
   "cell_type": "markdown",
   "metadata": {},
   "source": [
    "# OpenCV from the very beginning\n",
    "\n",
    "This is a super-rough tutorial that should get you up and running with OpenCV as fast as possible. The emphasis is on practical, quick, python-based image analysis and manipulation with pointers to a lot of the gotchas. It's not on principles or theory: if you want that, read a book:-)\n",
    "\n",
    "(I recommend : [https://www.amazon.co.uk/Image-Processing-Analysis-Machine-Vision/dp/1133593607/ref=dp_ob_image_bk] for a thorough and clear image processing base as well as a computer vision intro. I also recommend [http://szeliski.org/Book/] which is clear, vision rather than image processing based, and available online)"
   ]
  },
  {
   "cell_type": "markdown",
   "metadata": {},
   "source": [
    "## First things first\n",
    "\n",
    "*Install*. Things to install:\n",
    " * Python\n",
    "     * Install PIP which lets you install other libraries within python. \n",
    "     * numpy \n",
    "     * scipy\n",
    "     * There are loads of other libraries to install once you have python. If you're not already using Python for prototyping it is at least worth a look, and so you may also want to try installing these:\n",
    "     * pandas (data analysis)\n",
    "     * matplotlib (plotting)\n",
    "     * jupyter (interactive notebooks: this is a jupyter notebook)\n",
    "     \n",
    " * OpenCV 3.1\n",
    "     * This has a bunch of dependencies. Here are instructions for Linux installation: http://docs.opencv.org/3.1.0/d7/d9f/tutorial_linux_install.html\n",
    "     * Here are instructions for Mac:\n",
    "     https://prateekvjoshi.com/2015/10/09/installing-opencv-3-with-python-on-mac-os-x/\n",
    "     * And here for Windows:\n",
    "     http://docs.opencv.org/3.1.0/d3/d52/tutorial_windows_install.html\n",
    "\n",
    "### Install OpenCV with python samples enabled\n",
    "Then you can go to the samples directory and run some code to test it. I recommend edge.py or something like that - if you have a webcam it should \"just work\"\n"
   ]
  },
  {
   "cell_type": "code",
   "execution_count": 1,
   "metadata": {
    "collapsed": true
   },
   "outputs": [],
   "source": [
    "import cv2\n",
    "import numpy as np\n",
    "import common\n",
    "import video\n"
   ]
  },
  {
   "cell_type": "code",
   "execution_count": null,
   "metadata": {
    "collapsed": true
   },
   "outputs": [],
   "source": []
  }
 ],
 "metadata": {
  "kernelspec": {
   "display_name": "Python 2",
   "language": "python",
   "name": "python2"
  },
  "language_info": {
   "codemirror_mode": {
    "name": "ipython",
    "version": 2
   },
   "file_extension": ".py",
   "mimetype": "text/x-python",
   "name": "python",
   "nbconvert_exporter": "python",
   "pygments_lexer": "ipython2",
   "version": "2.7.6"
  }
 },
 "nbformat": 4,
 "nbformat_minor": 0
}
